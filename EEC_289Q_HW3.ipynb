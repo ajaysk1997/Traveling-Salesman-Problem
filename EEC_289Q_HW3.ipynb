{
 "cells": [
  {
   "attachments": {},
   "cell_type": "markdown",
   "metadata": {},
   "source": [
    "# EEC 289Q: Homework #3\n",
    "\n",
    "Algorithm evaluation to solve the Traveling Salesman Problem (TSP) within a practical limit of 15 minutes!"
   ]
  },
  {
   "attachments": {},
   "cell_type": "markdown",
   "metadata": {},
   "source": [
    "## Imports"
   ]
  },
  {
   "cell_type": "code",
   "execution_count": null,
   "metadata": {},
   "outputs": [],
   "source": [
    "import numpy as np\n",
    "import random\n",
    "import math\n",
    "import time"
   ]
  },
  {
   "attachments": {},
   "cell_type": "markdown",
   "metadata": {},
   "source": [
    "## Function to Import Graphs\n",
    "\n",
    "The following function takes in an input txt file that has line 1 as the number of nodes, line 2 with the headers, and the subsequent lines as the node connections and their costs."
   ]
  },
  {
   "cell_type": "code",
   "execution_count": 12,
   "metadata": {},
   "outputs": [],
   "source": [
    "def parse_graph(filename):\n",
    "    with open(filename, 'r') as file:\n",
    "        n = int(file.readline().strip())  # Reads the number of nodes\n",
    "        file.readline()  # Skip the header line\n",
    "        distance_matrix = np.full((n, n), np.inf)  # Initialize with infinities\n",
    "        for line in file:\n",
    "            i, j, dist = map(float, line.strip().split())\n",
    "            i, j = int(i) - 1, int(j) - 1  # Adjust for zero-based indexing\n",
    "            distance_matrix[i][j] = dist\n",
    "            distance_matrix[j][i] = dist  # Ensure symmetry for undirected graph\n",
    "        np.fill_diagonal(distance_matrix, 0)  # Zero distance to self\n",
    "    return distance_matrix"
   ]
  },
  {
   "attachments": {},
   "cell_type": "markdown",
   "metadata": {},
   "source": [
    "## Function to Calculate Cost"
   ]
  },
  {
   "cell_type": "code",
   "execution_count": null,
   "metadata": {},
   "outputs": [],
   "source": [
    "def calculate_cost(solution, distance_matrix):\n",
    "    return sum(distance_matrix[solution[i], solution[(i + 1) % len(solution)]] for i in range(len(solution)))"
   ]
  },
  {
   "attachments": {},
   "cell_type": "markdown",
   "metadata": {},
   "source": [
    "## Simulated Annealing Algorithm Function"
   ]
  },
  {
   "cell_type": "code",
   "execution_count": 6,
   "metadata": {},
   "outputs": [],
   "source": [
    "\n",
    "def simulated_annealing(distance_matrix, graph_type, max_time=900, SID='x'):\n",
    "    # Checking initial time to keep within 15 minutes\n",
    "    start_time = time.time()\n",
    "    n = len(distance_matrix)\n",
    "    # Shuffle to find initial solution\n",
    "    current_solution = np.arange(n)\n",
    "    np.random.shuffle(current_solution)\n",
    "    # Calculate current cost\n",
    "    current_cost = calculate_cost(current_solution, distance_matrix)\n",
    "\n",
    "    # Initialize parameters for Simulated Annealing\n",
    "    initial_temp = 10.0\n",
    "    final_temp = 1e-3\n",
    "    alpha = 0.995\n",
    "    temp = initial_temp\n",
    "\n",
    "\n",
    "    # Initializing cycle count\n",
    "    visited_cycles = 0\n",
    "    while time.time() - start_time < max_time:\n",
    "        # Sorting and reversing a segment\n",
    "        i, j = sorted(random.sample(range(n), 2))\n",
    "        new_solution = current_solution.copy()\n",
    "        new_solution[i:j + 1] = new_solution[i:j + 1][::-1]  # Reverse segment\n",
    "        new_cost = calculate_cost(new_solution, distance_matrix)\n",
    "\n",
    "        # Decision point to see if new solution is adopted to explore further\n",
    "        if new_cost < current_cost or math.exp((current_cost - new_cost) / temp) > random.random():\n",
    "            current_solution, current_cost = new_solution, new_cost\n",
    "\n",
    "        visited_cycles += 1\n",
    "        temp = max(temp * alpha, final_temp)  # Cool down\n",
    "\n",
    "    # Saving the best solution to a text file\n",
    "    solution_filename = f\"solution_{SID}_{graph_type}.txt\"\n",
    "    with open(solution_filename, 'w') as file:\n",
    "        solution_sequence = ' '.join(map(str, current_solution + 1))  # Convert zero-based indices to one-based\n",
    "        file.write(solution_sequence)\n",
    "\n",
    "    return current_solution, current_cost, visited_cycles"
   ]
  },
  {
   "attachments": {},
   "cell_type": "markdown",
   "metadata": {},
   "source": [
    "## Running the Algorithm"
   ]
  },
  {
   "cell_type": "code",
   "execution_count": 7,
   "metadata": {},
   "outputs": [],
   "source": [
    "filename = '1000_randomDistance.txt'  # Adjust to your file path\n",
    "distance_matrix = parse_graph(filename)\n",
    "solution, cost, visited_cycles = simulated_annealing(distance_matrix, 'randomDistance')\n"
   ]
  },
  {
   "cell_type": "code",
   "execution_count": 9,
   "metadata": {},
   "outputs": [
    {
     "name": "stdout",
     "output_type": "stream",
     "text": [
      "Best path cost: 1036.05\n",
      "Visited cycles: 3.5e+06\n"
     ]
    }
   ],
   "source": [
    "# Format and print the results\n",
    "print(f\"Best path cost: {cost:.2f}\")\n",
    "print(f\"Visited cycles: {visited_cycles:.1e}\")"
   ]
  },
  {
   "cell_type": "code",
   "execution_count": 10,
   "metadata": {},
   "outputs": [],
   "source": [
    "filename = '1000_euclidianDistance.txt'  # Adjust to your file path\n",
    "distance_matrix = parse_graph(filename)\n",
    "solution, cost, visited_cycles = simulated_annealing(distance_matrix, 'euclidianDistance')"
   ]
  },
  {
   "cell_type": "code",
   "execution_count": 11,
   "metadata": {},
   "outputs": [
    {
     "name": "stdout",
     "output_type": "stream",
     "text": [
      "Best path cost: 2747.96\n",
      "Visited cycles: 3.5e+06\n"
     ]
    }
   ],
   "source": [
    "# Format and print the results\n",
    "print(f\"Best path cost: {cost:.2f}\")\n",
    "print(f\"Visited cycles: {visited_cycles:.1e}\")"
   ]
  },
  {
   "attachments": {},
   "cell_type": "markdown",
   "metadata": {},
   "source": [
    "## Verification of Solutions"
   ]
  },
  {
   "cell_type": "code",
   "execution_count": 13,
   "metadata": {},
   "outputs": [],
   "source": [
    "import numpy as np\n",
    "\n",
    "def parse_solution_file(filename):\n",
    "    with open(filename, 'r') as file:\n",
    "        # Read the entire file, assuming it's a single line of space-separated indices\n",
    "        solution_str = file.readline()\n",
    "        # Convert the string of indices into a list of integers\n",
    "        solution = np.array(solution_str.strip().split(), dtype=int)\n",
    "    return solution\n",
    "\n",
    "def verify_solution_uniqueness(solution):\n",
    "    unique_solution = np.unique(solution)\n",
    "    if len(unique_solution) != len(solution):\n",
    "        print(\"The solution contains duplicate nodes.\")\n",
    "    else:\n",
    "        print(\"All nodes in the solution are unique.\")\n",
    "\n",
    "    return unique_solution\n"
   ]
  },
  {
   "cell_type": "code",
   "execution_count": 16,
   "metadata": {},
   "outputs": [
    {
     "name": "stdout",
     "output_type": "stream",
     "text": [
      "All nodes in the solution are unique.\n",
      "The solution correctly contains all 1000 unique nodes.\n"
     ]
    }
   ],
   "source": [
    "# Example check for Random Distance Solution\n",
    "filename = \"solution_913082241_randomDistance.txt\"  # Replace with your actual file path\n",
    "solution = parse_solution_file(filename)\n",
    "unique_solution = verify_solution_uniqueness(solution)\n",
    "\n",
    "# Additional check: Verify that the solution contains all nodes expected, e.g., 1000 nodes\n",
    "expected_num_nodes = 1000  # Adjust as needed\n",
    "if len(unique_solution) == expected_num_nodes:\n",
    "    print(f\"The solution correctly contains all {expected_num_nodes} unique nodes.\")\n",
    "else:\n",
    "    print(f\"Error: The solution should contain {expected_num_nodes} unique nodes but contains {len(unique_solution)}.\")"
   ]
  }
 ],
 "metadata": {
  "kernelspec": {
   "display_name": "Python 3",
   "language": "python",
   "name": "python3"
  },
  "language_info": {
   "codemirror_mode": {
    "name": "ipython",
    "version": 3
   },
   "file_extension": ".py",
   "mimetype": "text/x-python",
   "name": "python",
   "nbconvert_exporter": "python",
   "pygments_lexer": "ipython3",
   "version": "3.10.8"
  },
  "orig_nbformat": 4
 },
 "nbformat": 4,
 "nbformat_minor": 2
}
